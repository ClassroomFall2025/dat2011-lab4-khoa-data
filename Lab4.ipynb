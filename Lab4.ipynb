{
 "cells": [
  {
   "cell_type": "markdown",
   "id": "c4c1740d",
   "metadata": {},
   "source": [
    "import lab4(file_moi).ipynb:\n",
    "menu = {\n",
    "    \"1\" : \"Tính tiền nước sinh hoạt\",\n",
    "    \"2\" : \"Tính nguyên liệu làm bánh\",\n",
    "    \"3\" : \"Thoát\"\n",
    "}\n",
    "while True:\n",
    "    print(\"-----Menu-----\")\n",
    "    for k,v in menu.items():\n",
    "        print(f\"{k}: {v}\")\n",
    "    print(\"--------------\")\n",
    "    lua_chon = input(\"Mời bạn chọn chức năng: \")\n",
    "    if lua_chon == \"3\"\n",
    "        print(\"Kết thúc chương trình\")\n",
    "        break\n",
    "    elif lua_chon == \"1\":"
   ]
  }
 ],
 "metadata": {
  "language_info": {
   "name": "python"
  }
 },
 "nbformat": 4,
 "nbformat_minor": 5
}
