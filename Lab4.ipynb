{
 "cells": [
  {
   "cell_type": "code",
   "execution_count": 1,
   "id": "426e1225",
   "metadata": {},
   "outputs": [
    {
     "name": "stdout",
     "output_type": "stream",
     "text": [
      "====================MENU====================\n",
      "1 : Tính tiền nước\n",
      "2 : Tính nguyên liệu\n",
      "3 : Thoát\n",
      "================================================================\n",
      "Lựa chọn chức năng chương trình: \n",
      "Nguyên liệu: {'Duong': 0.30000000000000004, 'Dau': 0.18000000000000002}\n",
      "====================MENU====================\n",
      "1 : Tính tiền nước\n",
      "2 : Tính nguyên liệu\n",
      "3 : Thoát\n",
      "================================================================\n",
      "Lựa chọn chức năng chương trình: \n",
      "Nguyên liệu: {'Duong': 0.45, 'Dau': 0.27}\n",
      "====================MENU====================\n",
      "1 : Tính tiền nước\n",
      "2 : Tính nguyên liệu\n",
      "3 : Thoát\n",
      "================================================================\n",
      "Lựa chọn chức năng chương trình: \n",
      "kết thúc chương trình\n"
     ]
    }
   ],
   "source": [
    "# Code lab 4  bài 3 ở đây\n",
    "import Lab4_module as lab4\n",
    "\n",
    "menu = {\n",
    "    \"1\": \"Tính tiền nước\",\n",
    "    \"2\": \"Tính nguyên liệu\",\n",
    "    \"3\": \"Thoát\"\n",
    "}\n",
    "while True:\n",
    "    print(\"==\"*10 + \"MENU\" + \"==\"*10)\n",
    "    for k,v in menu.items():\n",
    "        print(f\"{k} : {v}\")\n",
    "    print(\"===\"*10 + \"====\" + \"===\"*10)\n",
    "    print(\"Lựa chọn chức năng chương trình: \")\n",
    "    lua_chon = input(\"Nhập chức năng chương trình:\")\n",
    "    if lua_chon == \"3\":\n",
    "        print(\"kết thúc chương trình\")\n",
    "        break\n",
    "    elif lua_chon == \"1\":\n",
    "        so_nuoc = float(input(\"Số nước: \"))\n",
    "        print(f\"Tiền nước: {lab4.tinh_tien_nuoc(so_nuoc)}\")\n",
    "    elif lua_chon == \"2\":\n",
    "        sl_bdx = float(input(\"Số lượng bánh đậu xanh: \"))\n",
    "        sl_btc = float(input(\"Số lượng bánh thập cẩm: \"))\n",
    "        sl_bd = float(input(\"Số lượng bánh dẻo: \"))\n",
    "        print(f\"Nguyên liệu: {lab4.tinh_nguyen_lieu(sl_bdx, sl_btc, sl_bd)}\")\n",
    "    else:\n",
    "        print(\"Chức năng không hợp lệ, vui lòng chọn lại\")"
   ]
  }
 ],
 "metadata": {
  "kernelspec": {
   "display_name": "Python 3",
   "language": "python",
   "name": "python3"
  },
  "language_info": {
   "codemirror_mode": {
    "name": "ipython",
    "version": 3
   },
   "file_extension": ".py",
   "mimetype": "text/x-python",
   "name": "python",
   "nbconvert_exporter": "python",
   "pygments_lexer": "ipython3",
   "version": "3.13.5"
  }
 },
 "nbformat": 4,
 "nbformat_minor": 5
}
