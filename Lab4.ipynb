{
 "cells": [
  {
   "cell_type": "code",
   "execution_count": null,
   "id": "426e1225",
   "metadata": {},
   "outputs": [
    {
     "ename": "ModuleNotFoundError",
     "evalue": "No module named 'lab4'",
     "output_type": "error",
     "traceback": [
      "\u001b[31m---------------------------------------------------------------------------\u001b[39m",
      "\u001b[31mModuleNotFoundError\u001b[39m                       Traceback (most recent call last)",
      "\u001b[36mCell\u001b[39m\u001b[36m \u001b[39m\u001b[32mIn[1]\u001b[39m\u001b[32m, line 2\u001b[39m\n\u001b[32m      1\u001b[39m \u001b[38;5;66;03m# Code lab 4  bài 3 ở đây\u001b[39;00m\n\u001b[32m----> \u001b[39m\u001b[32m2\u001b[39m \u001b[38;5;28;01mimport\u001b[39;00m\u001b[38;5;250m \u001b[39m\u001b[34;01mlab4\u001b[39;00m\n\u001b[32m      3\u001b[39m menu = {\n\u001b[32m      4\u001b[39m     \u001b[33m\"\u001b[39m\u001b[33m1\u001b[39m\u001b[33m\"\u001b[39m: \u001b[33m\"\u001b[39m\u001b[33mTính tiền nước\u001b[39m\u001b[33m\"\u001b[39m,\n\u001b[32m      5\u001b[39m     \u001b[33m\"\u001b[39m\u001b[33m2\u001b[39m\u001b[33m\"\u001b[39m: \u001b[33m\"\u001b[39m\u001b[33mTính nguyên liệu\u001b[39m\u001b[33m\"\u001b[39m,\n\u001b[32m      6\u001b[39m     \u001b[33m\"\u001b[39m\u001b[33m3\u001b[39m\u001b[33m\"\u001b[39m: \u001b[33m\"\u001b[39m\u001b[33mThoát\u001b[39m\u001b[33m\"\u001b[39m\n\u001b[32m      7\u001b[39m }\n\u001b[32m      8\u001b[39m \u001b[38;5;28;01mwhile\u001b[39;00m \u001b[38;5;28;01mTrue\u001b[39;00m:\n",
      "\u001b[31mModuleNotFoundError\u001b[39m: No module named 'lab4'"
     ]
    }
   ],
   "source": [
    "# Code lab 4  bài 3 ở đây\n",
    "import lab4\n",
    "menu = {\n",
    "    \"1\": \"Tính tiền nước\",\n",
    "    \"2\": \"Tính nguyên liệu\",\n",
    "    \"3\": \"Thoát\"\n",
    "}\n",
    "while True:\n",
    "    print(\"==\"*10 + \"MENU\" + \"==\"*10)\n",
    "    for k,v in menu.items():\n",
    "        print(f\"{k} : {v}\")\n",
    "    print(\"===\"*10 + \"====\" + \"===\"*10)\n",
    "    print(\"Lựa chọn chức năng chương trình: \")\n",
    "    lua_chon = input(\"Nhập chức năng chương trình:\")\n",
    "    if lua_chon == \"3\":\n",
    "        print(\"kết thúc chương trình\")\n",
    "        break\n",
    "    elif lua_chon == \"1\":\n",
    "        so_nuoc = float(input(\"Số nước: \"))\n",
    "        print(f\"Tiền nước: {lab4.tinh_tien_nuoc(so_nuoc)}\")\n",
    "    elif lua_chon == \"2\":\n",
    "        sl_bdx = float(input(\"Số lượng bánh đậu xanh: \"))\n",
    "        sl_btc = float(input(\"Số lượng bánh thập cẩm: \"))\n",
    "        sl_bd = float(input(\"Số lượng bánh dẻo: \"))\n",
    "        print(f\"Nguyên liệu: {lab4.tinh_nguyen_lieu(sl_bdx, sl_btc, sl_bd)}\")\n",
    "    else:\n",
    "        print(\"Chức năng không hợp lệ, vui lòng chọn lại\")"
   ]
  }
 ],
 "metadata": {
  "kernelspec": {
   "display_name": "Python 3",
   "language": "python",
   "name": "python3"
  },
  "language_info": {
   "codemirror_mode": {
    "name": "ipython",
    "version": 3
   },
   "file_extension": ".py",
   "mimetype": "text/x-python",
   "name": "python",
   "nbconvert_exporter": "python",
   "pygments_lexer": "ipython3",
   "version": "3.13.5"
  }
 },
 "nbformat": 4,
 "nbformat_minor": 5
}
